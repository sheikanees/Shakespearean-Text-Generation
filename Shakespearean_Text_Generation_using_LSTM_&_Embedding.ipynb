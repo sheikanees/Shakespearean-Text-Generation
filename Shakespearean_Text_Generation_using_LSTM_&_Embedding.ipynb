{
  "nbformat": 4,
  "nbformat_minor": 0,
  "metadata": {
    "colab": {
      "name": "Shakespearean Text Generation using LSTM & Embedding.ipynb",
      "provenance": [],
      "include_colab_link": true
    },
    "kernelspec": {
      "name": "python3",
      "display_name": "Python 3"
    },
    "accelerator": "GPU"
  },
  "cells": [
    {
      "cell_type": "markdown",
      "metadata": {
        "id": "view-in-github",
        "colab_type": "text"
      },
      "source": [
        "<a href=\"https://colab.research.google.com/github/sheikanees/Shakespearean-Text-Generation/blob/master/Shakespearean_Text_Generation_using_LSTM_%26_Embedding.ipynb\" target=\"_parent\"><img src=\"https://colab.research.google.com/assets/colab-badge.svg\" alt=\"Open In Colab\"/></a>"
      ]
    },
    {
      "cell_type": "markdown",
      "metadata": {
        "id": "MV25hdzIRu4f",
        "colab_type": "text"
      },
      "source": [
        "# **Shakespearean Text Generation using LSTM & Embedding**"
      ]
    },
    {
      "cell_type": "markdown",
      "metadata": {
        "id": "5iVGLQ0FSCt8",
        "colab_type": "text"
      },
      "source": [
        "**Importing Necessary Libraries**"
      ]
    },
    {
      "cell_type": "code",
      "metadata": {
        "id": "BOwsuGQQY9OL",
        "colab_type": "code",
        "colab": {}
      },
      "source": [
        "from tensorflow.keras.preprocessing.sequence import pad_sequences\n",
        "from tensorflow.keras.layers import Embedding, LSTM, Dense, Dropout, Bidirectional\n",
        "from tensorflow.keras.preprocessing.text import Tokenizer\n",
        "from tensorflow.keras.models import Sequential\n",
        "from tensorflow.keras.optimizers import Adam\n",
        "from tensorflow.keras import regularizers\n",
        "import tensorflow.keras.utils as ku \n",
        "import numpy as np "
      ],
      "execution_count": 0,
      "outputs": []
    },
    {
      "cell_type": "markdown",
      "metadata": {
        "id": "88zd0D5_SNBV",
        "colab_type": "text"
      },
      "source": [
        "**Loading the Shakespearean Dataset** "
      ]
    },
    {
      "cell_type": "code",
      "metadata": {
        "colab_type": "code",
        "id": "PRnDnCW-Z7qv",
        "colab": {
          "base_uri": "https://localhost:8080/",
          "height": 204
        },
        "outputId": "4896c5de-d9c5-41fb-be98-7d3fe876db8f"
      },
      "source": [
        "tokenizer = Tokenizer()\n",
        "!wget --no-check-certificate \\\n",
        "    https://storage.googleapis.com/laurencemoroney-blog.appspot.com/sonnets.txt \\\n",
        "    -O /tmp/sonnets.txt\n",
        "data = open('/tmp/sonnets.txt').read()\n",
        "\n",
        "corpus = data.lower().split(\"\\n\")\n",
        "\n",
        "\n",
        "tokenizer.fit_on_texts(corpus)\n",
        "total_words = len(tokenizer.word_index) + 1  "
      ],
      "execution_count": 2,
      "outputs": [
        {
          "output_type": "stream",
          "text": [
            "--2019-10-20 04:16:21--  https://storage.googleapis.com/laurencemoroney-blog.appspot.com/sonnets.txt\n",
            "Resolving storage.googleapis.com (storage.googleapis.com)... 74.125.133.128, 2a00:1450:400c:c0a::80\n",
            "Connecting to storage.googleapis.com (storage.googleapis.com)|74.125.133.128|:443... connected.\n",
            "HTTP request sent, awaiting response... 200 OK\n",
            "Length: 93578 (91K) [text/plain]\n",
            "Saving to: ‘/tmp/sonnets.txt’\n",
            "\n",
            "/tmp/sonnets.txt    100%[===================>]  91.38K  --.-KB/s    in 0.001s  \n",
            "\n",
            "2019-10-20 04:16:26 (102 MB/s) - ‘/tmp/sonnets.txt’ saved [93578/93578]\n",
            "\n"
          ],
          "name": "stdout"
        }
      ]
    },
    {
      "cell_type": "markdown",
      "metadata": {
        "id": "fh2W-e2wSylg",
        "colab_type": "text"
      },
      "source": [
        "**Processing the Dataset**"
      ]
    },
    {
      "cell_type": "code",
      "metadata": {
        "id": "FkziUQyGSukN",
        "colab_type": "code",
        "colab": {}
      },
      "source": [
        "# creating input sequences using list of tokens\n",
        "input_sequences = []\n",
        "for line in corpus:\n",
        "\ttoken_list = tokenizer.texts_to_sequences([line])[0]\n",
        "\tfor i in range(1, len(token_list)):\n",
        "\t\tn_gram_sequence = token_list[:i+1]\n",
        "\t\tinput_sequences.append(n_gram_sequence)"
      ],
      "execution_count": 0,
      "outputs": []
    },
    {
      "cell_type": "markdown",
      "metadata": {
        "id": "qkJZpL1VTP0O",
        "colab_type": "text"
      },
      "source": [
        "Each sentence in corpus is tokenized into a list of tokens i.e token_list\n",
        "\n",
        "For each tokenized sentence (token_list), e.g \"This apple is very crunchy\", the input sequences are: \\\n",
        "1) This apple \\\n",
        "2) This apple is \\\n",
        "3) This apply is very "
      ]
    },
    {
      "cell_type": "code",
      "metadata": {
        "id": "o8V4J9OcTQHo",
        "colab_type": "code",
        "colab": {}
      },
      "source": [
        "# padding sequences \n",
        "max_sequence_len = max([len(x) for x in input_sequences])\n",
        "input_sequences = np.array(pad_sequences(input_sequences, maxlen=max_sequence_len, padding='pre'))\n",
        "\n",
        "# creating predictors and label\n",
        "predictors, label = input_sequences[:,:-1],input_sequences[:,-1]\n",
        "\n",
        "label = ku.to_categorical(label, num_classes=total_words)"
      ],
      "execution_count": 0,
      "outputs": []
    },
    {
      "cell_type": "markdown",
      "metadata": {
        "id": "wQMV0TzoWjcO",
        "colab_type": "text"
      },
      "source": [
        "Each input_sequence is split into predictors & label.  Predictors are basically the input_sequence minus the last word and the corresponding label is the last word of the input_sentence.  The label array is converted to one-hot representation so that it can be fed into a softmax layer to make predictions."
      ]
    },
    {
      "cell_type": "markdown",
      "metadata": {
        "id": "8BnogvddXvNW",
        "colab_type": "text"
      },
      "source": [
        "**Building the Model**"
      ]
    },
    {
      "cell_type": "code",
      "metadata": {
        "id": "w9vH8Y59ajYL",
        "colab_type": "code",
        "colab": {
          "base_uri": "https://localhost:8080/",
          "height": 649
        },
        "outputId": "c5f09fd4-48da-4a1d-d797-bf4bd7d706c5"
      },
      "source": [
        "model = Sequential()\n",
        "model.add(Embedding(total_words, 100, input_length=max_sequence_len-1))\n",
        "model.add(Bidirectional(LSTM(150, return_sequences = True)))\n",
        "model.add(Dropout(0.2))\n",
        "model.add(LSTM(100))\n",
        "model.add(Dense(total_words/2, activation='relu', kernel_regularizer=regularizers.l2(0.01)))\n",
        "model.add(Dense(total_words, activation='softmax'))\n",
        "model.compile(loss='categorical_crossentropy', optimizer='adam', metrics=['accuracy'])\n",
        "print(model.summary())\n"
      ],
      "execution_count": 5,
      "outputs": [
        {
          "output_type": "stream",
          "text": [
            "WARNING:tensorflow:From /usr/local/lib/python3.6/dist-packages/tensorflow_core/python/keras/initializers.py:119: calling RandomUniform.__init__ (from tensorflow.python.ops.init_ops) with dtype is deprecated and will be removed in a future version.\n",
            "Instructions for updating:\n",
            "Call initializer instance with the dtype argument instead of passing it to the constructor\n",
            "WARNING:tensorflow:From /usr/local/lib/python3.6/dist-packages/tensorflow_core/python/ops/resource_variable_ops.py:1630: calling BaseResourceVariable.__init__ (from tensorflow.python.ops.resource_variable_ops) with constraint is deprecated and will be removed in a future version.\n",
            "Instructions for updating:\n",
            "If using Keras pass *_constraint arguments to layers.\n",
            "WARNING:tensorflow:From /usr/local/lib/python3.6/dist-packages/tensorflow_core/python/ops/init_ops.py:97: calling GlorotUniform.__init__ (from tensorflow.python.ops.init_ops) with dtype is deprecated and will be removed in a future version.\n",
            "Instructions for updating:\n",
            "Call initializer instance with the dtype argument instead of passing it to the constructor\n",
            "WARNING:tensorflow:From /usr/local/lib/python3.6/dist-packages/tensorflow_core/python/ops/init_ops.py:97: calling Orthogonal.__init__ (from tensorflow.python.ops.init_ops) with dtype is deprecated and will be removed in a future version.\n",
            "Instructions for updating:\n",
            "Call initializer instance with the dtype argument instead of passing it to the constructor\n",
            "WARNING:tensorflow:From /usr/local/lib/python3.6/dist-packages/tensorflow_core/python/ops/init_ops.py:97: calling Zeros.__init__ (from tensorflow.python.ops.init_ops) with dtype is deprecated and will be removed in a future version.\n",
            "Instructions for updating:\n",
            "Call initializer instance with the dtype argument instead of passing it to the constructor\n",
            "Model: \"sequential\"\n",
            "_________________________________________________________________\n",
            "Layer (type)                 Output Shape              Param #   \n",
            "=================================================================\n",
            "embedding (Embedding)        (None, 10, 100)           321100    \n",
            "_________________________________________________________________\n",
            "bidirectional (Bidirectional (None, 10, 300)           301200    \n",
            "_________________________________________________________________\n",
            "dropout (Dropout)            (None, 10, 300)           0         \n",
            "_________________________________________________________________\n",
            "lstm_1 (LSTM)                (None, 100)               160400    \n",
            "_________________________________________________________________\n",
            "dense (Dense)                (None, 1605)              162105    \n",
            "_________________________________________________________________\n",
            "dense_1 (Dense)              (None, 3211)              5156866   \n",
            "=================================================================\n",
            "Total params: 6,101,671\n",
            "Trainable params: 6,101,671\n",
            "Non-trainable params: 0\n",
            "_________________________________________________________________\n",
            "None\n"
          ],
          "name": "stdout"
        }
      ]
    },
    {
      "cell_type": "code",
      "metadata": {
        "id": "AIg2f1HBxqof",
        "colab_type": "code",
        "colab": {
          "base_uri": "https://localhost:8080/",
          "height": 1000
        },
        "outputId": "5f0ed11d-cf0a-4643-87e1-c40f896aef84"
      },
      "source": [
        " history = model.fit(predictors, label, epochs=100, verbose=1)"
      ],
      "execution_count": 6,
      "outputs": [
        {
          "output_type": "stream",
          "text": [
            "WARNING:tensorflow:From /usr/local/lib/python3.6/dist-packages/tensorflow_core/python/ops/math_grad.py:1424: where (from tensorflow.python.ops.array_ops) is deprecated and will be removed in a future version.\n",
            "Instructions for updating:\n",
            "Use tf.where in 2.0, which has the same broadcast rule as np.where\n",
            "Train on 15462 samples\n",
            "Epoch 1/100\n",
            "15462/15462 [==============================] - 32s 2ms/sample - loss: 6.8992 - acc: 0.0234\n",
            "Epoch 2/100\n",
            "15462/15462 [==============================] - 30s 2ms/sample - loss: 6.5011 - acc: 0.0210\n",
            "Epoch 3/100\n",
            "15462/15462 [==============================] - 30s 2ms/sample - loss: 6.3827 - acc: 0.0275\n",
            "Epoch 4/100\n",
            "15462/15462 [==============================] - 31s 2ms/sample - loss: 6.2592 - acc: 0.0303\n",
            "Epoch 5/100\n",
            "15462/15462 [==============================] - 30s 2ms/sample - loss: 6.1674 - acc: 0.0365\n",
            "Epoch 6/100\n",
            "15462/15462 [==============================] - 30s 2ms/sample - loss: 6.0832 - acc: 0.0375\n",
            "Epoch 7/100\n",
            "15462/15462 [==============================] - 30s 2ms/sample - loss: 5.9897 - acc: 0.0429\n",
            "Epoch 8/100\n",
            "15462/15462 [==============================] - 30s 2ms/sample - loss: 5.8875 - acc: 0.0469\n",
            "Epoch 9/100\n",
            "15462/15462 [==============================] - 30s 2ms/sample - loss: 5.7679 - acc: 0.0528\n",
            "Epoch 10/100\n",
            "15462/15462 [==============================] - 30s 2ms/sample - loss: 5.6475 - acc: 0.0626\n",
            "Epoch 11/100\n",
            "15462/15462 [==============================] - 30s 2ms/sample - loss: 5.5296 - acc: 0.0671\n",
            "Epoch 12/100\n",
            "15462/15462 [==============================] - 30s 2ms/sample - loss: 5.4200 - acc: 0.0763\n",
            "Epoch 13/100\n",
            "15462/15462 [==============================] - 30s 2ms/sample - loss: 5.3065 - acc: 0.0846\n",
            "Epoch 14/100\n",
            "15462/15462 [==============================] - 30s 2ms/sample - loss: 5.1978 - acc: 0.0908\n",
            "Epoch 15/100\n",
            "15462/15462 [==============================] - 30s 2ms/sample - loss: 5.0959 - acc: 0.0976\n",
            "Epoch 16/100\n",
            "15462/15462 [==============================] - 30s 2ms/sample - loss: 4.9847 - acc: 0.1072\n",
            "Epoch 17/100\n",
            "15462/15462 [==============================] - 30s 2ms/sample - loss: 4.8950 - acc: 0.1149\n",
            "Epoch 18/100\n",
            "15462/15462 [==============================] - 30s 2ms/sample - loss: 4.7887 - acc: 0.1208\n",
            "Epoch 19/100\n",
            "15462/15462 [==============================] - 30s 2ms/sample - loss: 4.6852 - acc: 0.1316\n",
            "Epoch 20/100\n",
            "15462/15462 [==============================] - 30s 2ms/sample - loss: 4.5905 - acc: 0.1399\n",
            "Epoch 21/100\n",
            "15462/15462 [==============================] - 30s 2ms/sample - loss: 4.4910 - acc: 0.1526\n",
            "Epoch 22/100\n",
            "15462/15462 [==============================] - 30s 2ms/sample - loss: 4.3867 - acc: 0.1625\n",
            "Epoch 23/100\n",
            "15462/15462 [==============================] - 30s 2ms/sample - loss: 4.2906 - acc: 0.1744\n",
            "Epoch 24/100\n",
            "15462/15462 [==============================] - 30s 2ms/sample - loss: 4.1918 - acc: 0.1901\n",
            "Epoch 25/100\n",
            "15462/15462 [==============================] - 30s 2ms/sample - loss: 4.0904 - acc: 0.1998\n",
            "Epoch 26/100\n",
            "15462/15462 [==============================] - 30s 2ms/sample - loss: 3.9954 - acc: 0.2125\n",
            "Epoch 27/100\n",
            "15462/15462 [==============================] - 30s 2ms/sample - loss: 3.9014 - acc: 0.2308\n",
            "Epoch 28/100\n",
            "15462/15462 [==============================] - 30s 2ms/sample - loss: 3.8116 - acc: 0.2453\n",
            "Epoch 29/100\n",
            "15462/15462 [==============================] - 30s 2ms/sample - loss: 3.7065 - acc: 0.2605\n",
            "Epoch 30/100\n",
            "15462/15462 [==============================] - 30s 2ms/sample - loss: 3.6155 - acc: 0.2802\n",
            "Epoch 31/100\n",
            "15462/15462 [==============================] - 30s 2ms/sample - loss: 3.5203 - acc: 0.3004\n",
            "Epoch 32/100\n",
            "15462/15462 [==============================] - 30s 2ms/sample - loss: 3.4456 - acc: 0.3122\n",
            "Epoch 33/100\n",
            "15462/15462 [==============================] - 30s 2ms/sample - loss: 3.3575 - acc: 0.3344\n",
            "Epoch 34/100\n",
            "15462/15462 [==============================] - 30s 2ms/sample - loss: 3.2787 - acc: 0.3492\n",
            "Epoch 35/100\n",
            "15462/15462 [==============================] - 30s 2ms/sample - loss: 3.1886 - acc: 0.3693\n",
            "Epoch 36/100\n",
            "15462/15462 [==============================] - 30s 2ms/sample - loss: 3.1142 - acc: 0.3862\n",
            "Epoch 37/100\n",
            "15462/15462 [==============================] - 30s 2ms/sample - loss: 3.0364 - acc: 0.4054\n",
            "Epoch 38/100\n",
            "15462/15462 [==============================] - 30s 2ms/sample - loss: 2.9584 - acc: 0.4223\n",
            "Epoch 39/100\n",
            "15462/15462 [==============================] - 30s 2ms/sample - loss: 2.8930 - acc: 0.4386\n",
            "Epoch 40/100\n",
            "15462/15462 [==============================] - 30s 2ms/sample - loss: 2.8181 - acc: 0.4540\n",
            "Epoch 41/100\n",
            "15462/15462 [==============================] - 30s 2ms/sample - loss: 2.7586 - acc: 0.4734\n",
            "Epoch 42/100\n",
            "15462/15462 [==============================] - 30s 2ms/sample - loss: 2.7021 - acc: 0.4835\n",
            "Epoch 43/100\n",
            "15462/15462 [==============================] - 30s 2ms/sample - loss: 2.6287 - acc: 0.4942\n",
            "Epoch 44/100\n",
            "15462/15462 [==============================] - 30s 2ms/sample - loss: 2.5774 - acc: 0.5061\n",
            "Epoch 45/100\n",
            "15462/15462 [==============================] - 30s 2ms/sample - loss: 2.5150 - acc: 0.5221\n",
            "Epoch 46/100\n",
            "15462/15462 [==============================] - 30s 2ms/sample - loss: 2.4569 - acc: 0.5332\n",
            "Epoch 47/100\n",
            "15462/15462 [==============================] - 30s 2ms/sample - loss: 2.4050 - acc: 0.5464\n",
            "Epoch 48/100\n",
            "15462/15462 [==============================] - 30s 2ms/sample - loss: 2.3509 - acc: 0.5570\n",
            "Epoch 49/100\n",
            "15462/15462 [==============================] - 30s 2ms/sample - loss: 2.3137 - acc: 0.5686\n",
            "Epoch 50/100\n",
            "15462/15462 [==============================] - 30s 2ms/sample - loss: 2.2615 - acc: 0.5787\n",
            "Epoch 51/100\n",
            "15462/15462 [==============================] - 30s 2ms/sample - loss: 2.2205 - acc: 0.5891\n",
            "Epoch 52/100\n",
            "15462/15462 [==============================] - 31s 2ms/sample - loss: 2.1603 - acc: 0.6050\n",
            "Epoch 53/100\n",
            "15462/15462 [==============================] - 31s 2ms/sample - loss: 2.1182 - acc: 0.6121\n",
            "Epoch 54/100\n",
            "15462/15462 [==============================] - 32s 2ms/sample - loss: 2.0760 - acc: 0.6217\n",
            "Epoch 55/100\n",
            "15462/15462 [==============================] - 32s 2ms/sample - loss: 2.0336 - acc: 0.6293\n",
            "Epoch 56/100\n",
            "15462/15462 [==============================] - 32s 2ms/sample - loss: 2.0058 - acc: 0.6337\n",
            "Epoch 57/100\n",
            "15462/15462 [==============================] - 32s 2ms/sample - loss: 1.9694 - acc: 0.6427\n",
            "Epoch 58/100\n",
            "15462/15462 [==============================] - 32s 2ms/sample - loss: 1.9308 - acc: 0.6511\n",
            "Epoch 59/100\n",
            "15462/15462 [==============================] - 32s 2ms/sample - loss: 1.8859 - acc: 0.6592\n",
            "Epoch 60/100\n",
            "15462/15462 [==============================] - 32s 2ms/sample - loss: 1.8499 - acc: 0.6671\n",
            "Epoch 61/100\n",
            "15462/15462 [==============================] - 31s 2ms/sample - loss: 1.8265 - acc: 0.6732\n",
            "Epoch 62/100\n",
            "15462/15462 [==============================] - 32s 2ms/sample - loss: 1.7941 - acc: 0.6808\n",
            "Epoch 63/100\n",
            "15462/15462 [==============================] - 32s 2ms/sample - loss: 1.7650 - acc: 0.6833\n",
            "Epoch 64/100\n",
            "15462/15462 [==============================] - 31s 2ms/sample - loss: 1.7399 - acc: 0.6894\n",
            "Epoch 65/100\n",
            "15462/15462 [==============================] - 32s 2ms/sample - loss: 1.7026 - acc: 0.6978\n",
            "Epoch 66/100\n",
            "15462/15462 [==============================] - 32s 2ms/sample - loss: 1.6729 - acc: 0.7060\n",
            "Epoch 67/100\n",
            "15462/15462 [==============================] - 31s 2ms/sample - loss: 1.6578 - acc: 0.7064\n",
            "Epoch 68/100\n",
            "15462/15462 [==============================] - 31s 2ms/sample - loss: 1.6142 - acc: 0.7194\n",
            "Epoch 69/100\n",
            "15462/15462 [==============================] - 31s 2ms/sample - loss: 1.6043 - acc: 0.7189\n",
            "Epoch 70/100\n",
            "15462/15462 [==============================] - 30s 2ms/sample - loss: 1.5581 - acc: 0.7287\n",
            "Epoch 71/100\n",
            "15462/15462 [==============================] - 29s 2ms/sample - loss: 1.5492 - acc: 0.7322\n",
            "Epoch 72/100\n",
            "15462/15462 [==============================] - 29s 2ms/sample - loss: 1.5189 - acc: 0.7350\n",
            "Epoch 73/100\n",
            "15462/15462 [==============================] - 30s 2ms/sample - loss: 1.4989 - acc: 0.7412\n",
            "Epoch 74/100\n",
            "15462/15462 [==============================] - 29s 2ms/sample - loss: 1.5002 - acc: 0.7401\n",
            "Epoch 75/100\n",
            "15462/15462 [==============================] - 29s 2ms/sample - loss: 1.4699 - acc: 0.7447\n",
            "Epoch 76/100\n",
            "15462/15462 [==============================] - 30s 2ms/sample - loss: 1.4434 - acc: 0.7509\n",
            "Epoch 77/100\n",
            "15462/15462 [==============================] - 29s 2ms/sample - loss: 1.4284 - acc: 0.7506\n",
            "Epoch 78/100\n",
            "15462/15462 [==============================] - 30s 2ms/sample - loss: 1.4021 - acc: 0.7593\n",
            "Epoch 79/100\n",
            "15462/15462 [==============================] - 29s 2ms/sample - loss: 1.3790 - acc: 0.7637\n",
            "Epoch 80/100\n",
            "15462/15462 [==============================] - 30s 2ms/sample - loss: 1.3554 - acc: 0.7698\n",
            "Epoch 81/100\n",
            "15462/15462 [==============================] - 30s 2ms/sample - loss: 1.3599 - acc: 0.7678\n",
            "Epoch 82/100\n",
            "15462/15462 [==============================] - 30s 2ms/sample - loss: 1.3644 - acc: 0.7619\n",
            "Epoch 83/100\n",
            "15462/15462 [==============================] - 29s 2ms/sample - loss: 1.3325 - acc: 0.7670\n",
            "Epoch 84/100\n",
            "15462/15462 [==============================] - 29s 2ms/sample - loss: 1.3065 - acc: 0.7753\n",
            "Epoch 85/100\n",
            "15462/15462 [==============================] - 29s 2ms/sample - loss: 1.2880 - acc: 0.7784\n",
            "Epoch 86/100\n",
            "15462/15462 [==============================] - 30s 2ms/sample - loss: 1.2677 - acc: 0.7830\n",
            "Epoch 87/100\n",
            "15462/15462 [==============================] - 29s 2ms/sample - loss: 1.2704 - acc: 0.7798\n",
            "Epoch 88/100\n",
            "15462/15462 [==============================] - 30s 2ms/sample - loss: 1.2735 - acc: 0.7771\n",
            "Epoch 89/100\n",
            "15462/15462 [==============================] - 29s 2ms/sample - loss: 1.2521 - acc: 0.7818\n",
            "Epoch 90/100\n",
            "15462/15462 [==============================] - 30s 2ms/sample - loss: 1.2134 - acc: 0.7919\n",
            "Epoch 91/100\n",
            "15462/15462 [==============================] - 30s 2ms/sample - loss: 1.2007 - acc: 0.7931\n",
            "Epoch 92/100\n",
            "15462/15462 [==============================] - 29s 2ms/sample - loss: 1.2075 - acc: 0.7908\n",
            "Epoch 93/100\n",
            "15462/15462 [==============================] - 29s 2ms/sample - loss: 1.1976 - acc: 0.7890\n",
            "Epoch 94/100\n",
            "15462/15462 [==============================] - 30s 2ms/sample - loss: 1.1862 - acc: 0.7943\n",
            "Epoch 95/100\n",
            "15462/15462 [==============================] - 30s 2ms/sample - loss: 1.1623 - acc: 0.8009\n",
            "Epoch 96/100\n",
            "15462/15462 [==============================] - 30s 2ms/sample - loss: 1.1545 - acc: 0.8009\n",
            "Epoch 97/100\n",
            "15462/15462 [==============================] - 30s 2ms/sample - loss: 1.1442 - acc: 0.7998\n",
            "Epoch 98/100\n",
            "15462/15462 [==============================] - 30s 2ms/sample - loss: 1.1389 - acc: 0.8022\n",
            "Epoch 99/100\n",
            "15462/15462 [==============================] - 30s 2ms/sample - loss: 1.1373 - acc: 0.8024\n",
            "Epoch 100/100\n",
            "15462/15462 [==============================] - 30s 2ms/sample - loss: 1.1275 - acc: 0.8035\n"
          ],
          "name": "stdout"
        }
      ]
    },
    {
      "cell_type": "markdown",
      "metadata": {
        "id": "PbNVvI-eX6Jf",
        "colab_type": "text"
      },
      "source": [
        "**Analyzing Performance of Model**"
      ]
    },
    {
      "cell_type": "code",
      "metadata": {
        "id": "1fXTEO3GJ282",
        "colab_type": "code",
        "colab": {
          "base_uri": "https://localhost:8080/",
          "height": 545
        },
        "outputId": "d48c7d90-45ab-4de1-f575-e1c4c4cc7e16"
      },
      "source": [
        "import matplotlib.pyplot as plt\n",
        "acc = history.history['acc']\n",
        "loss = history.history['loss']\n",
        "\n",
        "epochs = range(len(acc))\n",
        "\n",
        "plt.plot(epochs, acc, 'b', label='Training accuracy')\n",
        "plt.title('Training accuracy')\n",
        "\n",
        "plt.figure()\n",
        "\n",
        "plt.plot(epochs, loss, 'b', label='Training Loss')\n",
        "plt.title('Training loss')\n",
        "plt.legend()\n",
        "\n",
        "plt.show()"
      ],
      "execution_count": 7,
      "outputs": [
        {
          "output_type": "display_data",
          "data": {
            "image/png": "[encoded data removed]",
            "text/plain": [
              "<Figure size 432x288 with 1 Axes>"
            ]
          },
          "metadata": {
            "tags": []
          }
        },
        {
          "output_type": "display_data",
          "data": {
            "image/png": "[encoded data removed]",
            "text/plain": [
              "<Figure size 432x288 with 1 Axes>"
            ]
          },
          "metadata": {
            "tags": []
          }
        }
      ]
    },
    {
      "cell_type": "markdown",
      "metadata": {
        "id": "r_I_IMpKYCwa",
        "colab_type": "text"
      },
      "source": [
        "**Inputting a Sentence and Predicting the next 100 words**"
      ]
    },
    {
      "cell_type": "code",
      "metadata": {
        "id": "6Vc6PHgxa6Hm",
        "colab_type": "code",
        "colab": {
          "base_uri": "https://localhost:8080/",
          "height": 94
        },
        "outputId": "876d4aca-8b50-46e2-f866-10c2a2468aa4"
      },
      "source": [
        "seed_text = \"Help me Obi Wan Kenobi, you're my only hope\"\n",
        "next_words = 100\n",
        "  \n",
        "for _ in range(next_words):\n",
        "\ttoken_list = tokenizer.texts_to_sequences([seed_text])[0]\n",
        "\ttoken_list = pad_sequences([token_list], maxlen=max_sequence_len-1, padding='pre')\n",
        "\tpredicted = model.predict_classes(token_list, verbose=0)\n",
        "\toutput_word = \"\"\n",
        "\tfor word, index in tokenizer.word_index.items():\n",
        "\t\tif index == predicted:\n",
        "\t\t\toutput_word = word\n",
        "\t\t\tbreak\n",
        "\tseed_text += \" \" + output_word\n",
        "print(seed_text)"
      ],
      "execution_count": 16,
      "outputs": [
        {
          "output_type": "stream",
          "text": [
            "Help me Obi Wan Kenobi, you're my only hope doth give too deceived clearer torn light wind cold light torn grow ' grow ' arising grow on new blest can mend a waste away away the ground esteem esteem esteem grow exchanged arising arising delighted hate days tell thee on weeds near near slain near slain near latch twain forsaken grow doth grow fall exchanged ' grow up seen back doth latch grow behind weeds care did forth weeds hate remain prove so bold must thee grow wind torn torn deem'd grow sun torn esteem speak up with day or disdain care sun cheeks rage must lose mad live\n"
          ],
          "name": "stdout"
        }
      ]
    },
    {
      "cell_type": "code",
      "metadata": {
        "id": "zqEw7VCDYWEg",
        "colab_type": "code",
        "colab": {}
      },
      "source": [
        ""
      ],
      "execution_count": 0,
      "outputs": []
    }
  ]
}